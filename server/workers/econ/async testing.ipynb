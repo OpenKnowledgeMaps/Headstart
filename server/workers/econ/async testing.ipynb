{
 "cells": [
  {
   "cell_type": "code",
   "execution_count": 1,
   "metadata": {},
   "outputs": [],
   "source": [
    "from concurrent.futures import ThreadPoolExecutor\n",
    "import requests\n",
    "import asyncio"
   ]
  },
  {
   "cell_type": "code",
   "execution_count": 2,
   "metadata": {},
   "outputs": [],
   "source": [
    "params = {'q': 'king', 'year_range': 'any-time-years', 'sorting': 'most-relevant', 'from': '1809-01-01', 'to': '2020-12-31', 'today': '4/27/2020'}"
   ]
  },
  {
   "cell_type": "code",
   "execution_count": 3,
   "metadata": {},
   "outputs": [],
   "source": [
    "param_list = []\n",
    "for q in [\"kingdom\", \"king\", \"queen\"]:\n",
    "    params = {'q': q, 'year_range': 'any-time-years', 'sorting': 'most-relevant', 'from': '1809-01-01', 'to': '2020-12-31', 'today': '4/27/2020'}\n",
    "    param_list.append(params)"
   ]
  },
  {
   "cell_type": "code",
   "execution_count": 4,
   "metadata": {},
   "outputs": [
    {
     "data": {
      "text/plain": [
       "[{'q': 'kingdom',\n",
       "  'year_range': 'any-time-years',\n",
       "  'sorting': 'most-relevant',\n",
       "  'from': '1809-01-01',\n",
       "  'to': '2020-12-31',\n",
       "  'today': '4/27/2020'},\n",
       " {'q': 'king',\n",
       "  'year_range': 'any-time-years',\n",
       "  'sorting': 'most-relevant',\n",
       "  'from': '1809-01-01',\n",
       "  'to': '2020-12-31',\n",
       "  'today': '4/27/2020'},\n",
       " {'q': 'queen',\n",
       "  'year_range': 'any-time-years',\n",
       "  'sorting': 'most-relevant',\n",
       "  'from': '1809-01-01',\n",
       "  'to': '2020-12-31',\n",
       "  'today': '4/27/2020'}]"
      ]
     },
     "execution_count": 4,
     "metadata": {},
     "output_type": "execute_result"
    }
   ],
   "source": [
    "param_list"
   ]
  },
  {
   "cell_type": "code",
   "execution_count": 5,
   "metadata": {},
   "outputs": [],
   "source": [
    "url = \"http://127.0.0.1/api/econ/search\""
   ]
  },
  {
   "cell_type": "code",
   "execution_count": 6,
   "metadata": {},
   "outputs": [],
   "source": [
    "def fetch(url, params):\n",
    "    res = requests.post(url, json=params)\n",
    "    return res"
   ]
  },
  {
   "cell_type": "code",
   "execution_count": 7,
   "metadata": {},
   "outputs": [],
   "source": [
    "async def get_data_asynchronous():\n",
    "    with ThreadPoolExecutor(max_workers=10) as executor:\n",
    "        with requests.Session() as session:\n",
    "            loop = asyncio.get_event_loop()\n",
    "            tasks = [loop.run_in_executor(executor, fetch, *(url, params))\n",
    "                     for params in param_list]\n",
    "            for res in await asyncio.gather(*tasks):\n",
    "                print(res)"
   ]
  },
  {
   "cell_type": "code",
   "execution_count": 8,
   "metadata": {},
   "outputs": [],
   "source": [
    "def main():\n",
    "    loop = asyncio.get_event_loop()\n",
    "    future = asyncio.ensure_future(get_data_asynchronous())"
   ]
  },
  {
   "cell_type": "code",
   "execution_count": 70,
   "metadata": {
    "scrolled": true
   },
   "outputs": [
    {
     "name": "stdout",
     "output_type": "stream",
     "text": [
      "<Response [404]>\n",
      "<Response [404]>\n",
      "<Response [404]>\n"
     ]
    }
   ],
   "source": [
    "main()"
   ]
  },
  {
   "cell_type": "code",
   "execution_count": null,
   "metadata": {},
   "outputs": [],
   "source": []
  }
 ],
 "metadata": {
  "kernelspec": {
   "display_name": "Python 3",
   "language": "python",
   "name": "python3"
  },
  "language_info": {
   "codemirror_mode": {
    "name": "ipython",
    "version": 3
   },
   "file_extension": ".py",
   "mimetype": "text/x-python",
   "name": "python",
   "nbconvert_exporter": "python",
   "pygments_lexer": "ipython3",
   "version": "3.6.9"
  }
 },
 "nbformat": 4,
 "nbformat_minor": 2
}
